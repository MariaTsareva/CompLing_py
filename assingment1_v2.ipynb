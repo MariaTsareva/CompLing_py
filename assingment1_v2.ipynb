{
 "cells": [
  {
   "cell_type": "markdown",
   "metadata": {},
   "source": [
    "### Дополнительное задание 1"
   ]
  },
  {
   "cell_type": "markdown",
   "metadata": {},
   "source": [
    "Показать на эксперименте, что верхняя оценка на вероятность коллизии композиционного хеша для строк выполняется O(1/m + L/p). Подробнее в материалах лекции.\n",
    "Построить графики зависимости FPR от длинны строк L и простого модуля p.\n",
    "Эксперименты провести для L = np.linspace(10, 100, 11) и 10 простых чисел p из интервала (100, 1000)\n",
    "Для каждой точки выполнить 10 экспериментов, на графике отобразить стандартное отклонение оценки в каждой точке."
   ]
  },
  {
   "cell_type": "code",
   "execution_count": 2,
   "metadata": {},
   "outputs": [],
   "source": [
    "import numpy as np\n",
    "from math import log, e, sqrt\n",
    "from bitarray import bitarray\n",
    "from tqdm import tqdm_notebook\n",
    "from collections import Counter\n",
    "import matplotlib.pyplot as plt"
   ]
  },
  {
   "cell_type": "code",
   "execution_count": 3,
   "metadata": {},
   "outputs": [],
   "source": [
    "def hash_int(x, a=112, b=22, p=997):\n",
    "    return (a*x + b) % 997"
   ]
  },
  {
   "cell_type": "code",
   "execution_count": 4,
   "metadata": {},
   "outputs": [],
   "source": [
    "def poly_hash(s, p, x=31):\n",
    "    h = 0\n",
    "    for j in range(len(s)-1, -1, -1):\n",
    "        h = (h * x + ord(s[j]) + p) % p\n",
    "    return h"
   ]
  },
  {
   "cell_type": "code",
   "execution_count": 5,
   "metadata": {},
   "outputs": [],
   "source": [
    "import random"
   ]
  },
  {
   "cell_type": "code",
   "execution_count": 6,
   "metadata": {},
   "outputs": [
    {
     "name": "stdout",
     "output_type": "stream",
     "text": [
      "[ 10.  19.  28.  37.  46.  55.  64.  73.  82.  91. 100.]\n"
     ]
    }
   ],
   "source": [
    "L = np.linspace(10, 100, 11)\n",
    "print(L)"
   ]
  },
  {
   "cell_type": "code",
   "execution_count": 26,
   "metadata": {},
   "outputs": [],
   "source": [
    "def prime(lower=100, upper=1000):\n",
    "    prime = []\n",
    "    for val in range(lower, upper + 1): \n",
    "        if val > 1: \n",
    "            for n in range(2, val): \n",
    "                if (val % n) == 0: \n",
    "                    break\n",
    "            else: \n",
    "                prime.append(val)\n",
    "\n",
    "    return random.sample(prime, 10)"
   ]
  },
  {
   "cell_type": "code",
   "execution_count": 28,
   "metadata": {},
   "outputs": [
    {
     "data": {
      "text/plain": [
       "[211, 421, 619, 907, 743, 937, 593, 317, 131, 449]"
      ]
     },
     "execution_count": 28,
     "metadata": {},
     "output_type": "execute_result"
    }
   ],
   "source": [
    "inter = prime()\n",
    "inter"
   ]
  },
  {
   "cell_type": "code",
   "execution_count": 94,
   "metadata": {},
   "outputs": [],
   "source": [
    "def rand_str(seed, L):\n",
    "    strings = []\n",
    "    np.random.RandomState(seed=seed)\n",
    "    for i in range(1000):\n",
    "        strings.append(''.join(random.choice('abcdefghijklmnopqrstuvwxyz') for i in range(int(L))))\n",
    "    return strings"
   ]
  },
  {
   "cell_type": "code",
   "execution_count": 35,
   "metadata": {},
   "outputs": [
    {
     "data": {
      "text/plain": [
       "[578, 153, 610, 240, 796, 218, 433, 34, 483, 911, 464]"
      ]
     },
     "execution_count": 35,
     "metadata": {},
     "output_type": "execute_result"
    }
   ],
   "source": [
    "seeds = random.sample(range(1001), 11)\n",
    "seeds"
   ]
  },
  {
   "cell_type": "code",
   "execution_count": 112,
   "metadata": {},
   "outputs": [],
   "source": [
    "def fpr(p, l, seed):\n",
    "    col = 0\n",
    "    hashes = {}\n",
    "    st = rand_str(seed, int(l))\n",
    "#     print(st)\n",
    "    for s in st:\n",
    "        h = hash_int(poly_hash(s, p))\n",
    "        if h not in hashes:\n",
    "            hashes[h] = s\n",
    "        else:\n",
    "            hashes[h] = s\n",
    "            col += 1\n",
    "#         print(hashes)\n",
    "    return col * 2 / (1000 * 999)  \n",
    "                "
   ]
  },
  {
   "cell_type": "markdown",
   "metadata": {},
   "source": [
    "#### фиксируем р"
   ]
  },
  {
   "cell_type": "code",
   "execution_count": 113,
   "metadata": {},
   "outputs": [
    {
     "name": "stdout",
     "output_type": "stream",
     "text": [
      "p =  449\n"
     ]
    }
   ],
   "source": [
    "p = random.choice(inter)\n",
    "print('p = ', p)"
   ]
  },
  {
   "cell_type": "code",
   "execution_count": 114,
   "metadata": {},
   "outputs": [],
   "source": [
    "p_mean = []\n",
    "p_std = []\n",
    "for l in L:\n",
    "    f = []\n",
    "    for seed in seeds:\n",
    "        fpr_ = fpr(p, l, seed)\n",
    "#         print(fpr_)\n",
    "        f.append(fpr_)\n",
    "    p_mean.append(np.mean(f))\n",
    "    p_std.append(np.std(f))"
   ]
  },
  {
   "cell_type": "code",
   "execution_count": 115,
   "metadata": {},
   "outputs": [
    {
     "data": {
      "text/plain": [
       "[0.0011973791973791973,\n",
       " 0.0011999271999271997,\n",
       " 0.0011977431977431977,\n",
       " 0.0011986531986531988,\n",
       " 0.0012041132041132041,\n",
       " 0.0012013832013832012,\n",
       " 0.001199017199017199,\n",
       " 0.0011975611975611976,\n",
       " 0.0011999271999272,\n",
       " 0.0012017472017472018]"
      ]
     },
     "execution_count": 115,
     "metadata": {},
     "output_type": "execute_result"
    }
   ],
   "source": [
    "p_mean[:10]"
   ]
  },
  {
   "cell_type": "code",
   "execution_count": 116,
   "metadata": {},
   "outputs": [
    {
     "data": {
      "text/plain": [
       "[9.251626191383251e-06,\n",
       " 7.60055073903763e-06,\n",
       " 1.8210934936899045e-05,\n",
       " 1.4935108373048393e-05,\n",
       " 6.521602645252126e-06,\n",
       " 8.640697039198667e-06,\n",
       " 1.2176342658060028e-05,\n",
       " 1.0448776117504666e-05,\n",
       " 1.3612348312905768e-05,\n",
       " 9.811143486718395e-06]"
      ]
     },
     "execution_count": 116,
     "metadata": {},
     "output_type": "execute_result"
    }
   ],
   "source": [
    "p_std[:10]"
   ]
  },
  {
   "cell_type": "code",
   "execution_count": 117,
   "metadata": {},
   "outputs": [
    {
     "data": {
      "image/png": "[encoded data removed]",
      "text/plain": [
       "<matplotlib.figure.Figure at 0x25067e402e8>"
      ]
     },
     "metadata": {},
     "output_type": "display_data"
    }
   ],
   "source": [
    "plt.errorbar(L, p_mean, p_std, fmt='o', label='среднее значение FPR')\n",
    "plt.title('FPR: среднее и стандартное отклонение, фиксированное p = %d' % p)\n",
    "plt.xlabel('L')\n",
    "plt.ylabel('FPR')\n",
    "plt.legend()\n",
    "plt.show()"
   ]
  },
  {
   "cell_type": "markdown",
   "metadata": {},
   "source": [
    "На графике видно, что функция растет линейно только на некоторых участках, поэтому ожидания не оправдались"
   ]
  },
  {
   "cell_type": "markdown",
   "metadata": {},
   "source": []
  },
  {
   "cell_type": "markdown",
   "metadata": {},
   "source": [
    "#### фиксируем L"
   ]
  },
  {
   "cell_type": "code",
   "execution_count": 118,
   "metadata": {},
   "outputs": [
    {
     "name": "stdout",
     "output_type": "stream",
     "text": [
      "l =  73\n"
     ]
    }
   ],
   "source": [
    "l = int(random.choice(L))\n",
    "print('l = ', l)"
   ]
  },
  {
   "cell_type": "code",
   "execution_count": 119,
   "metadata": {},
   "outputs": [],
   "source": [
    "l_mean = []\n",
    "l_std = []\n",
    "f_ = []\n",
    "for p in inter:\n",
    "    for seed in seeds[:-1]:\n",
    "        fpr_ = fpr(p, l, seed)\n",
    "        f_.append(fpr_)\n",
    "    l_mean.append(np.mean(f_))\n",
    "    l_std.append(np.std(f_))\n",
    "    "
   ]
  },
  {
   "cell_type": "code",
   "execution_count": 120,
   "metadata": {},
   "outputs": [
    {
     "data": {
      "text/plain": [
       "[0.0015833833833833835,\n",
       " 0.0014125125125125123,\n",
       " 0.0012759426092759428,\n",
       " 0.001155055055055055,\n",
       " 0.0011045445445445445,\n",
       " 0.0010491157824491157,\n",
       " 0.0010472186472186473,\n",
       " 0.0010905905905905905,\n",
       " 0.001162740518296074,\n",
       " 0.0011663263263263263]"
      ]
     },
     "execution_count": 120,
     "metadata": {},
     "output_type": "execute_result"
    }
   ],
   "source": [
    "l_mean[:10]"
   ]
  },
  {
   "cell_type": "code",
   "execution_count": 121,
   "metadata": {},
   "outputs": [
    {
     "data": {
      "text/plain": [
       "[2.7522977146881777e-06,\n",
       " 0.00017115240869136113,\n",
       " 0.0002386211335421125,\n",
       " 0.00029434840806376723,\n",
       " 0.000282145385983263,\n",
       " 0.00028585335072315796,\n",
       " 0.0002647214135974337,\n",
       " 0.000272930499622506,\n",
       " 0.0003284192595861226,\n",
       " 0.00031176001317893354]"
      ]
     },
     "execution_count": 121,
     "metadata": {},
     "output_type": "execute_result"
    }
   ],
   "source": [
    "l_std[:10]"
   ]
  },
  {
   "cell_type": "code",
   "execution_count": 122,
   "metadata": {},
   "outputs": [
    {
     "data": {
      "image/png": "[encoded data removed]",
      "text/plain": [
       "<matplotlib.figure.Figure at 0x25067b9fc88>"
      ]
     },
     "metadata": {},
     "output_type": "display_data"
    }
   ],
   "source": [
    "\n",
    "plt.errorbar(inter, l_mean, l_std, fmt='o', label='среднее значение FPR')\n",
    "plt.title('FPR: среднее и стандартное отклонение, фиксированное L = %d' % l)\n",
    "plt.xlabel('p')\n",
    "plt.ylabel('FPR')\n",
    "plt.legend()\n",
    "plt.show()"
   ]
  },
  {
   "cell_type": "markdown",
   "metadata": {},
   "source": [
    "На данном графике видно, что ожидание уменьшения коллизий с ростом р не оправдалось. Скорее всего, проблема в коде, но этого найти не удалось"
   ]
  },
  {
   "cell_type": "code",
   "execution_count": null,
   "metadata": {},
   "outputs": [],
   "source": []
  }
 ],
 "metadata": {
  "kernelspec": {
   "display_name": "Python 3",
   "language": "python",
   "name": "python3"
  },
  "language_info": {
   "codemirror_mode": {
    "name": "ipython",
    "version": 3
   },
   "file_extension": ".py",
   "mimetype": "text/x-python",
   "name": "python",
   "nbconvert_exporter": "python",
   "pygments_lexer": "ipython3",
   "version": "3.6.4"
  }
 },
 "nbformat": 4,
 "nbformat_minor": 2
}
